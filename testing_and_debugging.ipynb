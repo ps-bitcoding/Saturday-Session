{
 "cells": [
  {
   "cell_type": "markdown",
   "id": "5c8ae40e",
   "metadata": {},
   "source": [
    "# **Testing & Debugging**"
   ]
  },
  {
   "cell_type": "markdown",
   "id": "9c658b3c",
   "metadata": {},
   "source": [
    "- In software development, `testing` and `debugging` are steps for ensuring that your code `works as expected` and is `free from errors`."
   ]
  },
  {
   "cell_type": "markdown",
   "id": "9115f259",
   "metadata": {},
   "source": [
    "#### **Unit Testing**"
   ]
  },
  {
   "cell_type": "markdown",
   "id": "e285882e",
   "metadata": {},
   "source": [
    "- Pytest is a powerful and easy-to-use Python testing framework used for writing simple unit tests.\n",
    "\n",
    "##### **`Test Files and Test Functions`**\n",
    "- Test file names must start with `test_` or end with `_test.py`.\n",
    "- Test function names must start with `test_`.\n",
    "\n",
    "**`Example:`**\n",
    "```python\n",
    "# test_sample.py\n",
    "\n",
    "def test_addition():\n",
    "    assert 2 + 3 == 5\n",
    "```\n",
    "\n",
    "<br>\n",
    "\n",
    "##### **`Assertions`**\n",
    "- Pytest uses simple `assert` statements to test conditions.\n",
    "- If the assertion fails, Pytest shows exactly what failed and why.\n",
    "\n",
    "**`Example:`**\n",
    "```python\n",
    "assert add(2, 3) == 5\n",
    "```\n",
    "\n",
    "##### **`Running Tests`**\n",
    "- Pytest can be run from the command line.\n",
    "- To run all tests in a directory, use `pytest`.\n",
    "- To run a specific test file, use `pytest test_sample.py`.\n",
    "- To run a specific test function, use `pytest test_sample.py::test_addition`."
   ]
  },
  {
   "cell_type": "markdown",
   "id": "a4816a4a",
   "metadata": {},
   "source": [
    "##### **How to Use Pytest for Python Unit Testing**"
   ]
  },
  {
   "cell_type": "markdown",
   "id": "91f0fdea",
   "metadata": {},
   "source": [
    "`1. Install Pytest:`\n",
    "- **pip install pytest**\n",
    "\n",
    "`2. Write a Python Function to Test`\n",
    "```python\n",
    "# calculator.py\n",
    "\n",
    "def add(a, b):\n",
    "    return a + b\n",
    "\n",
    "def subtract(a, b):\n",
    "    return a - b\n",
    "```\n",
    "\n",
    "`3. Create a Test File`\n",
    "```python\n",
    "# test_calculator.py\n",
    "\n",
    "from calculator import add, subtract\n",
    "\n",
    "def test_add_positive_numbers():\n",
    "    assert add(2, 3) == 5\n",
    "\n",
    "def test_add_negative_numbers():\n",
    "    assert add(-2, -3) == -5\n",
    "\n",
    "def test_add_zero():\n",
    "    assert add(0, 7) == 7\n",
    "\n",
    "def test_subtract_numbers():\n",
    "    assert subtract(10, 3) == 7\n",
    "```\n",
    "\n",
    "`4. Run the Tests`\n",
    "- **pytest test_calculator.py**"
   ]
  },
  {
   "cell_type": "markdown",
   "id": "e15cc9c3",
   "metadata": {},
   "source": [
    "### **Test Cases**"
   ]
  },
  {
   "cell_type": "markdown",
   "id": "efe03db6",
   "metadata": {},
   "source": [
    "#### **`Use Clear and Descriptive Names`**\n",
    "- Good names make tests easier to read and understand.\n",
    "\n",
    "**`Example:`**\n",
    "\n",
    "**Good:**\n",
    "- test_add_positive_numbers\n",
    "- test_add_negative_numbers\n",
    "\n",
    "**Bad:**\n",
    "- test_1\n",
    "- test_2\n",
    "\n",
    "#### **`Follow the AAA Rule (Arrange, Act, Assert)`**\n",
    "| Step    | Meaning                         | Example                |\n",
    "|---------|----------------------------------|------------------------|\n",
    "| Arrange | Set up test data and conditions  | a = 5; b = 3         |\n",
    "| Act     | Execute the code being tested    | result = add(a, b)   |\n",
    "| Assert  | Verify the expected outcome      | assert result == 8   |\n",
    "\n",
    "#### **`Test One Thing at a Time`**\n",
    "- Each test should focus on a single aspect of the code.\n",
    "- This makes it easier to identify and fix issues.\n",
    "\n",
    "**Good:** One test for adding two numbers.\n",
    "**Bad:** Testing addition and subtraction in the same test.\n",
    "\n",
    "#### **`Make Tests Independent`**\n",
    "- Each test should not depend on another test to pass.\n",
    "\n",
    "#### **`Use Clear Assertions`**\n",
    "- Use direct and clear assertions to verify outputs\n",
    "\n",
    "**`Example:`**\n",
    "- **Good:** assert sum([2, 3]) == 5\n",
    "- **Bad:** assert sum([2, 3]) > 0\n",
    "\n",
    "#### **`Cover Normal and Edge Cases`**\n",
    "- Normal inputs (expected use)\n",
    "- Edge cases (zero, negative numbers, empty arrays, etc.)\n",
    "- Unexpected inputs (optional if needed)\n"
   ]
  },
  {
   "cell_type": "markdown",
   "id": "30e2f28b",
   "metadata": {},
   "source": [
    "### **Debugging Tools: Breakpoints, Watch Variables, Console Logs**"
   ]
  },
  {
   "attachments": {
    "image.png": {
     "image/png": "[encoded data removed]"
    }
   },
   "cell_type": "markdown",
   "id": "ff03d817",
   "metadata": {},
   "source": [
    "#### **Breakpoints**\n",
    "- Breakpoints allow you to `pause the execution` of your program at a `specific line`. \n",
    "- This helps you `inspect the current state` of the program, including `variable values` and `flow`.\n",
    "\n",
    "<br>\n",
    "\n",
    "#### **Watch Variables**\n",
    "- Watch variables allow you to `monitor the value of a specific variable` as the program executes.\n",
    "- You can track how they `change in real-time`.\n",
    "\n",
    "<br>\n",
    "\n",
    "#### **Console Logs**\n",
    "- Console logs allow you to `print messages` to the console during program execution.\n",
    "- They are useful for `debugging and understanding the flow` of your program.\n",
    "\n",
    "<br>\n",
    "\n",
    "#### **Debugging Tools Bar**\n",
    "\n",
    "![image.png](attachment:image.png)\n",
    "\n",
    "\n",
    "| Name | Function |\n",
    "|------|-----------|\n",
    "| Continue | Runs the `code until the next breakpoint` is hit or the program ends. |\n",
    "| Step Over | Executes the `next line of code` but `doesn't go inside any function` call. |\n",
    "| Step Into | Moves `into the function call` at the next line (lets you debug inside the called function). |\n",
    "| Step Out | If you are inside a function, this will complete the function and `return to the caller line`. |\n",
    "| Restart | `Stops the current debugging session` and `immediately restarts` it from the beginning. |\n",
    "| Stop | `Stops/Kills` the debugging session completely. |"
   ]
  }
 ],
 "metadata": {
  "language_info": {
   "name": "python"
  }
 },
 "nbformat": 4,
 "nbformat_minor": 5
}
